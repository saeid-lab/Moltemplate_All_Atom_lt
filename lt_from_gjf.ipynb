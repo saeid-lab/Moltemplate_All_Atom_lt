{
 "cells": [
  {
   "cell_type": "code",
   "execution_count": 11,
   "metadata": {},
   "outputs": [],
   "source": [
    "with open(\"propane.gjf\") as file:\n",
    "    data = file.readlines()"
   ]
  },
  {
   "cell_type": "code",
   "execution_count": 12,
   "metadata": {},
   "outputs": [
    {
     "name": "stdout",
     "output_type": "stream",
     "text": [
      "['C', '-2.57462683', '1.68843277', '0.00000000']\n",
      "['H', '-2.21797240', '0.67962276', '0.00000000']\n",
      "['H', '-2.21795399', '2.19283096', '-0.87365150']\n",
      "['H', '-3.64462683', '1.68844595', '0.00000000']\n",
      "['C', '-2.06128461', '2.41438904', '1.25740497']\n",
      "['H', '-0.99128463', '2.41420647', '1.25750243']\n",
      "['H', '-2.41811687', '1.91010323', '2.13105625']\n",
      "['C', '-2.57437095', '3.86640226', '1.25726452']\n",
      "['H', '-2.21653000', '4.37098821', '0.38419930']\n",
      "['H', '-3.64437022', '3.86694299', '1.25613883']\n",
      "['H', '-2.21836919', '4.37026098', '2.13150084']\n",
      "------------\n",
      "total number of atoms: 11\n"
     ]
    }
   ],
   "source": [
    "my_list=[]\n",
    "for i in data[6:17]:\n",
    "    print(i.split())\n",
    "    my_list.append(i.split())\n",
    "    \n",
    "print('------------')\n",
    "print('total number of atoms:',len(my_list))"
   ]
  },
  {
   "cell_type": "code",
   "execution_count": 13,
   "metadata": {},
   "outputs": [
    {
     "name": "stdout",
     "output_type": "stream",
     "text": [
      "$atom:C1\t $mol:...\t @atom:Atype\t 0.0\t -2.57462683\t 1.68843277\t 0.00000000\n",
      "$atom:H2\t $mol:...\t @atom:Atype\t 0.0\t -2.21797240\t 0.67962276\t 0.00000000\n",
      "$atom:H3\t $mol:...\t @atom:Atype\t 0.0\t -2.21795399\t 2.19283096\t -0.87365150\n",
      "$atom:H4\t $mol:...\t @atom:Atype\t 0.0\t -3.64462683\t 1.68844595\t 0.00000000\n",
      "$atom:C5\t $mol:...\t @atom:Atype\t 0.0\t -2.06128461\t 2.41438904\t 1.25740497\n",
      "$atom:H6\t $mol:...\t @atom:Atype\t 0.0\t -0.99128463\t 2.41420647\t 1.25750243\n",
      "$atom:H7\t $mol:...\t @atom:Atype\t 0.0\t -2.41811687\t 1.91010323\t 2.13105625\n",
      "$atom:C8\t $mol:...\t @atom:Atype\t 0.0\t -2.57437095\t 3.86640226\t 1.25726452\n",
      "$atom:H9\t $mol:...\t @atom:Atype\t 0.0\t -2.21653000\t 4.37098821\t 0.38419930\n",
      "$atom:H10\t $mol:...\t @atom:Atype\t 0.0\t -3.64437022\t 3.86694299\t 1.25613883\n",
      "$atom:H11\t $mol:...\t @atom:Atype\t 0.0\t -2.21836919\t 4.37026098\t 2.13150084\n",
      "------------\n",
      "['C1', 'H2', 'H3', 'H4', 'C5', 'H6', 'H7', 'C8', 'H9', 'H10', 'H11'] and total number of atoms are: 11\n",
      "------------\n",
      "['C', 'H', 'H', 'H', 'C', 'H', 'H', 'C', 'H', 'H', 'H']\n"
     ]
    }
   ],
   "source": [
    "count = 1\n",
    "new_elements = []\n",
    "\n",
    "for obj1 in my_list:\n",
    "    print('$atom:{}{}\\t $mol:{}\\t @atom:{}\\t 0.0\\t {}\\t {}\\t {}'\\\n",
    "          .format(obj1[0],count,'...','Atype',obj1[1],obj1[2],obj1[3]))\n",
    "    new_elements.append('{}{}'.format(obj1[0],count))\n",
    "    count += 1\n",
    "    \n",
    "print('------------')\n",
    "print(new_elements,'and total number of atoms are:',len(new_elements))\n",
    "print('------------')\n",
    "\n",
    "elements = []\n",
    "for obj1 in my_list:\n",
    "    elements.append(obj1[0])\n",
    "\n",
    "print(elements)"
   ]
  },
  {
   "cell_type": "code",
   "execution_count": 14,
   "metadata": {},
   "outputs": [
    {
     "name": "stdout",
     "output_type": "stream",
     "text": [
      "['1', '2', '1.0', '3', '1.0', '4', '1.0', '5', '1.0']\n",
      "['2']\n",
      "['3']\n",
      "['4']\n",
      "['5', '6', '1.0', '7', '1.0', '8', '1.0']\n",
      "['6']\n",
      "['7']\n",
      "['8', '9', '1.0', '10', '1.0', '11', '1.0']\n",
      "['9']\n",
      "['10']\n",
      "['11']\n",
      "------------\n",
      "['1', '2', '1.0', '3', '1.0', '4', '1.0', '5', '1.0']\n",
      "['5', '6', '1.0', '7', '1.0', '8', '1.0']\n",
      "['8', '9', '1.0', '10', '1.0', '11', '1.0']\n",
      "------------\n",
      "this is connectivity:\n",
      " [['1', '2', '1.0', '3', '1.0', '4', '1.0', '5', '1.0'], ['5', '6', '1.0', '7', '1.0', '8', '1.0'], ['8', '9', '1.0', '10', '1.0', '11', '1.0']]\n"
     ]
    }
   ],
   "source": [
    "all_connectivity=[]\n",
    "conn_data = data[18:29]\n",
    "for i in conn_data:\n",
    "    print(i.split())\n",
    "    all_connectivity.append(i.split())\n",
    "    \n",
    "print('------------')\n",
    "\n",
    "connectivity=[]\n",
    "for i in range(len(all_connectivity)):\n",
    "    if len(all_connectivity[i]) >2:\n",
    "        print(all_connectivity[i])\n",
    "        connectivity.append(all_connectivity[i])\n",
    "        \n",
    "print('------------')\n",
    "print('this is connectivity:\\n',connectivity)"
   ]
  },
  {
   "cell_type": "code",
   "execution_count": 15,
   "metadata": {},
   "outputs": [
    {
     "name": "stdout",
     "output_type": "stream",
     "text": [
      "[[1, 2, 3, 4, 5], [5, 6, 7, 8], [8, 9, 10, 11]]\n"
     ]
    }
   ],
   "source": [
    "for i in range(0, len(connectivity)):\n",
    "    while connectivity[i].count('1.0') >0 :\n",
    "        connectivity[i].remove('1.0')\n",
    "        \n",
    "    connectivity[i] = [int(float(i)) for i in connectivity[i]]\n",
    "        \n",
    "print(connectivity)"
   ]
  },
  {
   "cell_type": "code",
   "execution_count": 16,
   "metadata": {},
   "outputs": [
    {
     "name": "stdout",
     "output_type": "stream",
     "text": [
      "[[1, 1], [1, 2], [1, 3], [1, 4], [1, 5], [5, 5], [5, 6], [5, 7], [5, 8], [8, 8], [8, 9], [8, 10], [8, 11]]\n"
     ]
    }
   ],
   "source": [
    "my_new_list = []\n",
    "for i in range(0, len(connectivity)):\n",
    "    for j in connectivity[i]:\n",
    "        my_new_list.append([connectivity[i][0], j])\n",
    "print(my_new_list)"
   ]
  },
  {
   "cell_type": "code",
   "execution_count": 17,
   "metadata": {},
   "outputs": [
    {
     "name": "stdout",
     "output_type": "stream",
     "text": [
      "C1 H2\n",
      "C1 H3\n",
      "C1 H4\n",
      "C1 C5\n",
      "C5 H6\n",
      "C5 H7\n",
      "C5 C8\n",
      "C8 H9\n",
      "C8 H10\n",
      "C8 H11\n",
      "total number of bonds: 10\n"
     ]
    }
   ],
   "source": [
    "bonds = []\n",
    "for i,j in my_new_list:\n",
    "    if i!=j:\n",
    "        print(new_elements[i-1],new_elements[j-1])\n",
    "        bonds.append([new_elements[i-1],new_elements[j-1]])\n",
    "print('total number of bonds:', len(bonds))"
   ]
  },
  {
   "cell_type": "code",
   "execution_count": 18,
   "metadata": {},
   "outputs": [
    {
     "name": "stdout",
     "output_type": "stream",
     "text": [
      "$bond:bnd1 $atom:C1 $atom:H2\n",
      "$bond:bnd2 $atom:C1 $atom:H3\n",
      "$bond:bnd3 $atom:C1 $atom:H4\n",
      "$bond:bnd4 $atom:C1 $atom:C5\n",
      "$bond:bnd6 $atom:C5 $atom:H6\n",
      "$bond:bnd7 $atom:C5 $atom:H7\n",
      "$bond:bnd8 $atom:C5 $atom:C8\n",
      "$bond:bnd10 $atom:C8 $atom:H9\n",
      "$bond:bnd11 $atom:C8 $atom:H10\n",
      "$bond:bnd12 $atom:C8 $atom:H11\n"
     ]
    }
   ],
   "source": [
    "count = 0\n",
    "for i,j in my_new_list:\n",
    "    if i!=j:\n",
    "        print('$bond:bnd{} $atom:{} $atom:{}'.format(count,new_elements[i-1],new_elements[j-1]))\n",
    "        \n",
    "    count += 1"
   ]
  },
  {
   "cell_type": "code",
   "execution_count": null,
   "metadata": {},
   "outputs": [],
   "source": []
  }
 ],
 "metadata": {
  "kernelspec": {
   "display_name": "Python 3",
   "language": "python",
   "name": "python3"
  },
  "language_info": {
   "codemirror_mode": {
    "name": "ipython",
    "version": 3
   },
   "file_extension": ".py",
   "mimetype": "text/x-python",
   "name": "python",
   "nbconvert_exporter": "python",
   "pygments_lexer": "ipython3",
   "version": "3.8.3"
  }
 },
 "nbformat": 4,
 "nbformat_minor": 4
}
